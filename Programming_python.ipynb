{
 "cells": [
  {
   "cell_type": "code",
   "execution_count": null,
   "metadata": {
    "scrolled": true
   },
   "outputs": [],
   "source": [
    "#variables and operator\n",
    "a = 1\n",
    "b = 2\n",
    "print(a==b)\n",
    "# a = 3\n",
    "print(a+b)"
   ]
  },
  {
   "cell_type": "code",
   "execution_count": null,
   "metadata": {},
   "outputs": [],
   "source": [
    "#List\n",
    "list1 = ['abcd', 786, 2.23, 'runoob', 70.2]\n",
    "print(list1[0])\n",
    "print(list1[3:])\n",
    "list1[0]='new0'\n",
    "list1.append('100')\n",
    "print(list1[0:3:2])\n",
    "print(list1[-1])"
   ]
  },
  {
   "cell_type": "code",
   "execution_count": null,
   "metadata": {},
   "outputs": [],
   "source": [
    "#Set\n",
    "seta = set('abracad')\n",
    "setb = set('alaczam')\n",
    "print(seta)\n",
    "print(seta - setb)\n",
    "print(seta | setb)\n",
    "print(seta & setb)\n",
    "print(seta ^ setb)"
   ]
  },
  {
   "cell_type": "code",
   "execution_count": null,
   "metadata": {},
   "outputs": [],
   "source": [
    "#Dictionary\n",
    "dict = {}\n",
    "dict['variables'] = 'names of value'\n",
    "print(dict)\n",
    "\n",
    "course = {\"Thu\":\"Biological Databases\",\"Fri\":\"Programming\",\"Sun\":\"Basic Statistics\"}\n",
    "print(course[\"Thu\"])"
   ]
  },
  {
   "cell_type": "code",
   "execution_count": null,
   "metadata": {},
   "outputs": [],
   "source": [
    "#if-elif-else \n",
    "day = ['Mon','Tue','Wed','Thu','Fri','Sat','Sun']\n",
    "for each in day:\n",
    "    if each == 'Thu':\n",
    "        print('Today is Thu, we have Biological Databases.')\n",
    "        continue\n",
    "    elif each == 'Fri':\n",
    "        print('Today is Fri, we have Programming.')\n",
    "    elif each == 'Sun':\n",
    "        print('Today is Sun, we have Basic Statistics.')\n",
    "    else:\n",
    "        print('Today is %s, no class today.'%each)"
   ]
  },
  {
   "cell_type": "code",
   "execution_count": null,
   "metadata": {},
   "outputs": [],
   "source": [
    "#Loop \n",
    "for each in day:\n",
    "    course_name = course[each]\n",
    "    print('Today is %s,we have %s.'%(each,course_name))"
   ]
  },
  {
   "cell_type": "code",
   "execution_count": null,
   "metadata": {},
   "outputs": [],
   "source": [
    "#read file\n",
    "f = open('file1.txt')\n",
    "g = open('out.txt','w')\n",
    "count = 0\n",
    "\n",
    "for eachline in f:\n",
    "    count += 1\n",
    "    g.write('%d\\t%s\\n'%(count,eachline.strip()))\n",
    "\n",
    "print('There are %d lines in the file.'%count)\n",
    "g.close()\n",
    "f.close()"
   ]
  },
  {
   "cell_type": "code",
   "execution_count": null,
   "metadata": {},
   "outputs": [],
   "source": [
    "#function\n",
    "def caculate_length(x):\n",
    "    count = 0\n",
    "    for each in x:\n",
    "        count += 1\n",
    "    return count\n",
    "list1_len = caculate_length(list1)\n",
    "print(list1_len)"
   ]
  },
  {
   "cell_type": "code",
   "execution_count": null,
   "metadata": {},
   "outputs": [],
   "source": [
    "#import package\n",
    "import os\n",
    "print(os.getcwd())\n",
    "path = 'D:\\\\zzy\\\\course'\n",
    "os.chdir(path)\n",
    "os.getcwd()\n",
    "os.chdir(r'D:\\zzy\\course')\n",
    "#os.getcwd()\n",
    "path = 'C:\\\\Users\\\\zzdfr'\n",
    "os.chdir(path)"
   ]
  },
  {
   "cell_type": "code",
   "execution_count": null,
   "metadata": {},
   "outputs": [],
   "source": [
    "#Regular Expressions\n",
    "import re\n",
    "s = '>lcl|NM_003505.1_cds_NP_003496.1_1 [gene=FZD1][protein=frizzled-1] [location=414..2357] [gbkey=CDS]'\n",
    "test= re.findall('gene=(\\S+)\\]',s)\n",
    "gene_name= re.findall('gene=(\\S+?)\\]',s)\n",
    "acc_num = re.findall('\\|(\\w+)\\.',s)\n",
    "print(gene_name,acc_num)"
   ]
  },
  {
   "cell_type": "code",
   "execution_count": null,
   "metadata": {
    "collapsed": true
   },
   "outputs": [],
   "source": []
  }
 ],
 "metadata": {
  "kernelspec": {
   "display_name": "Python 3",
   "language": "python",
   "name": "python3"
  },
  "language_info": {
   "codemirror_mode": {
    "name": "ipython",
    "version": 3
   },
   "file_extension": ".py",
   "mimetype": "text/x-python",
   "name": "python",
   "nbconvert_exporter": "python",
   "pygments_lexer": "ipython3",
   "version": "3.6.3"
  }
 },
 "nbformat": 4,
 "nbformat_minor": 2
}
